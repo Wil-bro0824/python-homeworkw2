{
 "cells": [
  {
   "cell_type": "markdown",
   "metadata": {},
   "source": [
    "### PyBank\n"
   ]
  },
  {
   "cell_type": "code",
   "execution_count": 195,
   "metadata": {},
   "outputs": [],
   "source": [
    "# Import neccessary libraries\n",
    "import os\n",
    "import csv\n",
    "from pathlib import Path"
   ]
  },
  {
   "cell_type": "code",
   "execution_count": 196,
   "metadata": {},
   "outputs": [],
   "source": [
    "# Set the file path\n",
    "csvpath = Path('budget_data.csv')"
   ]
  },
  {
   "cell_type": "code",
   "execution_count": 197,
   "metadata": {},
   "outputs": [],
   "source": [
    "# Initialize a list of total months, total amount, and the average change\n",
    "# Initialize Metric Varibles for calculation\n",
    "total_months = []\n",
    "net_total = []\n",
    "avg_change = []\n",
    "max_increase = 0\n",
    "max_decrease = 0\n",
    "greatest_inc = 0\n",
    "greatest_dec = 0"
   ]
  },
  {
   "cell_type": "code",
   "execution_count": 198,
   "metadata": {},
   "outputs": [
    {
     "name": "stdout",
     "output_type": "stream",
     "text": [
      "Financial Analysis\n",
      "------------------------\n",
      "Total Months: 86\n",
      "Total: $38382578\n",
      "Average Change:-2315.12\n",
      "Greatest Increase in Profits: Feb-12 $1926159\n",
      "Greatest Decrease in Profits: Sep-13 $(-2196167)\n"
     ]
    }
   ],
   "source": [
    "#Open budget_data.csv as a file object\n",
    "with open(csvpath, 'r') as csvfile:\n",
    "    \n",
    "    csvreader = csv.reader(csvfile, delimiter=',')\n",
    "    header = next(csvreader)\n",
    "#Coverting strings to ints for numerical calculations    \n",
    "    for row in csvreader:\n",
    "        \n",
    "        total_months.append(row[0])\n",
    "        net_total.append(int(row[1]))\n",
    "#Calculate the average change        \n",
    "    for x in range(len(net_total)-1):\n",
    "        avg_change.append(net_total[x+1]-net_total[x])\n",
    "#Calculate the greatest increase/decrease        \n",
    "max_increase = max(avg_change)\n",
    "max_decrease = min(avg_change)\n",
    "        \n",
    "        \n",
    "greatest_inc = avg_change.index(max(avg_change)) +1\n",
    "greatest_dec = avg_change.index(min(avg_change)) +1\n",
    "        \n",
    "    \n",
    "\n",
    "#Print Results       \n",
    "print(\"Financial Analysis\")\n",
    "print(\"------------------------\")\n",
    "print(f\"Total Months: {len(total_months)}\")\n",
    "print(f\"Total: ${sum(net_total)}\")\n",
    "print(f\"Average Change:{round(sum(avg_change)/len(avg_change),2)}\")\n",
    "print(f\"Greatest Increase in Profits: {total_months[greatest_inc]} ${str(max_increase)}\")\n",
    "print(f\"Greatest Decrease in Profits: {total_months[greatest_dec]} $({str(max_decrease)})\")\n",
    "\n",
    "#Set output path and create a txt file\n",
    "output = Path('PyBank.txt')\n",
    "\n",
    "#Edit the txt document and input Results\n",
    "with open(output, 'w') as csvfile:\n",
    "    csvwriter = csv.writer(csvfile, delimiter=',')\n",
    "    \n",
    "    csvfile.write(\"Financial Analysis\")\n",
    "    csvfile.write(\"\\n\")\n",
    "    csvfile.write(\"-------------------------\")\n",
    "    csvfile.write(f\"\\nTotal Months: {len(total_months)}\")\n",
    "    csvfile.write(f\"\\nTotal: ${sum(net_total)}\")\n",
    "    csvfile.write(f\"\\nAverage Change:{round(sum(avg_change)/len(avg_change),2)}\")\n",
    "    csvfile.write(f\"\\nGreatest Increase in Profits: {total_months[greatest_inc]} ${str(max_increase)}\")\n",
    "    csvfile.write(f\"\\nGreatest Decrease in Profits: {total_months[greatest_dec]} $({str(max_decrease)})\")\n",
    "\n"
   ]
  },
  {
   "cell_type": "code",
   "execution_count": null,
   "metadata": {},
   "outputs": [],
   "source": []
  },
  {
   "cell_type": "code",
   "execution_count": null,
   "metadata": {},
   "outputs": [],
   "source": []
  }
 ],
 "metadata": {
  "kernelspec": {
   "display_name": "Python 3",
   "language": "python",
   "name": "python3"
  },
  "language_info": {
   "codemirror_mode": {
    "name": "ipython",
    "version": 3
   },
   "file_extension": ".py",
   "mimetype": "text/x-python",
   "name": "python",
   "nbconvert_exporter": "python",
   "pygments_lexer": "ipython3",
   "version": "3.8.5"
  }
 },
 "nbformat": 4,
 "nbformat_minor": 4
}
